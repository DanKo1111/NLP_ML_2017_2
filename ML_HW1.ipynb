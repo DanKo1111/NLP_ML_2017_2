{
 "cells": [
  {
   "cell_type": "code",
   "execution_count": 60,
   "metadata": {
    "collapsed": false
   },
   "outputs": [],
   "source": [
    "import numpy as np\n",
    "import pandas\n",
    "from sklearn import tree, grid_search\n",
    "from sklearn.tree import DecisionTreeClassifier, export_graphviz\n",
    "import matplotlib.pyplot as plt\n",
    "from sklearn.ensemble import RandomForestClassifier\n",
    "from sklearn.model_selection import train_test_split, cross_val_score\n",
    "from sklearn.grid_search import GridSearchCV\n",
    "from sklearn.metrics import classification_report\n",
    "%matplotlib inline\n",
    "\n",
    "df = pandas.read_csv('D:\\\\Daniil\\\\titanic_3.csv', index_col='PassengerId') #Открываем файл"
   ]
  },
  {
   "cell_type": "code",
   "execution_count": 2,
   "metadata": {
    "collapsed": false
   },
   "outputs": [],
   "source": [
    "#№1\n",
    "data1 = df[[\"Survived\", \"Sex\"]] #Выбор необходимых для задачи столбцов\n",
    "female = data1[data1['Sex'] == 'female'] #Разделение по половому признаку\n",
    "male = data1[data1['Sex'] == 'male']"
   ]
  },
  {
   "cell_type": "code",
   "execution_count": 3,
   "metadata": {
    "collapsed": false
   },
   "outputs": [
    {
     "name": "stdout",
     "output_type": "stream",
     "text": [
      "Males: male    577\n",
      "0       468\n",
      "1       109\n",
      "dtype: int64\n",
      "Females: female    314\n",
      "1         233\n",
      "0          81\n",
      "dtype: int64\n"
     ]
    }
   ],
   "source": [
    "males_data = []\n",
    "females_data = []\n",
    "#Подсчет выживших мужчин и женщин\n",
    "for i in male.stack().value_counts(): \n",
    "    males_data.append(i)\n",
    "for i in female.stack().value_counts():\n",
    "    females_data.append(i)\n",
    "print(\"Males:\", male.stack().value_counts())\n",
    "print(\"Females:\", female.stack().value_counts())"
   ]
  },
  {
   "cell_type": "code",
   "execution_count": 4,
   "metadata": {
    "collapsed": false
   },
   "outputs": [
    {
     "data": {
      "image/png": "[encoded data removed]",
      "text/plain": [
       "<matplotlib.figure.Figure at 0xa5837b8>"
      ]
     },
     "metadata": {},
     "output_type": "display_data"
    },
    {
     "data": {
      "image/png": "[encoded data removed]",
      "text/plain": [
       "<matplotlib.figure.Figure at 0xa59eb00>"
      ]
     },
     "metadata": {},
     "output_type": "display_data"
    }
   ],
   "source": [
    "label = []\n",
    "male_fig, male_ax = plt.subplots()\n",
    "#.stack().value_counts() возвращает отсортированные по возрастанию значения\n",
    "# Здась я проверяю, как они должны расположиться на диаграмме\n",
    "if male.stack().value_counts()[1] > male.stack().value_counts()[0]: \n",
    "    label = ['Survived' , 'Not survived']\n",
    "else:\n",
    "    label = ['Not survived', 'Survived']\n",
    "#Конструирование графика для данных о мужчинах\n",
    "plt.title('Male')\n",
    "male_ax.pie(males_data[-2:], explode=(0, 0), labels=label, autopct='%1.1f%%')\n",
    "male_ax.axis('equal')\n",
    "\n",
    "#Конструирование графика для данных о женщинах\n",
    "female_fig, female_ax = plt.subplots()\n",
    "if female.stack().value_counts()[1] > female.stack().value_counts()[0]:\n",
    "    label = ['Survived' , 'Not survived']\n",
    "else:\n",
    "    label = ['Not survived', 'Survived']\n",
    "plt.title('Female')\n",
    "female_ax.pie(females_data[-2:], explode=(0, 0), labels=label, autopct='%1.1f%%')\n",
    "female_ax.axis('equal')\n",
    "\n",
    "\n",
    "plt.show() #Вывод диаграммы"
   ]
  },
  {
   "cell_type": "code",
   "execution_count": 5,
   "metadata": {
    "collapsed": true
   },
   "outputs": [],
   "source": [
    "#Женщин выжило в два раза больше, чем мужчин, не смотря на то, что всего мужчин было почти в два раза больше, чем женщин. "
   ]
  },
  {
   "cell_type": "code",
   "execution_count": 6,
   "metadata": {
    "collapsed": false
   },
   "outputs": [
    {
     "name": "stdout",
     "output_type": "stream",
     "text": [
      "1    352\n",
      "0     80\n",
      "dtype: int64\n",
      "2    184\n",
      "0     97\n",
      "1     87\n",
      "dtype: int64\n",
      "3    491\n",
      "0    372\n",
      "1    119\n",
      "dtype: int64\n"
     ]
    }
   ],
   "source": [
    "data2 = df[[\"Survived\", \"Pclass\"]] #Выбор данных, необходимых для задания\n",
    "#Выборка данных по классам\n",
    "PC1 = data2[data2['Pclass'] == 1]\n",
    "PC2 = data2[data2['Pclass'] == 2]\n",
    "PC3 = data2[data2['Pclass'] == 3]\n",
    "\n",
    "#Печать результатов\n",
    "print(PC1.stack().value_counts())\n",
    "print(PC2.stack().value_counts())\n",
    "print(PC3.stack().value_counts())"
   ]
  },
  {
   "cell_type": "code",
   "execution_count": 7,
   "metadata": {
    "collapsed": false
   },
   "outputs": [],
   "source": [
    "#По какой-то причине .stack().value_counts() неправильно вычисляет данные для первого класса. Массив для него задаю вручную.\n",
    "#Заполнение массивов данными о выживших по классам\n",
    "PC1_data = [216, 136, 80] \n",
    "PC2_data = []\n",
    "for i in PC2.stack().value_counts():\n",
    "    PC2_data.append(i)\n",
    "PC3_data = []\n",
    "for i in PC3.stack().value_counts():\n",
    "    PC3_data.append(i)"
   ]
  },
  {
   "cell_type": "code",
   "execution_count": 8,
   "metadata": {
    "collapsed": false
   },
   "outputs": [
    {
     "data": {
      "text/plain": [
       "(-1.1046252352486257,\n",
       " 1.1002202996789929,\n",
       " -1.1040355254571266,\n",
       " 1.1052181286570089)"
      ]
     },
     "execution_count": 8,
     "metadata": {},
     "output_type": "execute_result"
    },
    {
     "data": {
      "image/png": "[encoded data removed]",
      "text/plain": [
       "<matplotlib.figure.Figure at 0xaa29198>"
      ]
     },
     "metadata": {},
     "output_type": "display_data"
    },
    {
     "data": {
      "image/png": "[encoded data removed]",
      "text/plain": [
       "<matplotlib.figure.Figure at 0xaa42f98>"
      ]
     },
     "metadata": {},
     "output_type": "display_data"
    },
    {
     "data": {
      "image/png": "[encoded data removed]",
      "text/plain": [
       "<matplotlib.figure.Figure at 0xaac5be0>"
      ]
     },
     "metadata": {},
     "output_type": "display_data"
    }
   ],
   "source": [
    "#Диаграмма распределения выживших/погибших в 1 классе\n",
    "PC1_fig, PC1_ax = plt.subplots()\n",
    "plt.title('Class 1')\n",
    "PC1_ax.pie(PC1_data[-2:], explode=(0, 0), labels=['Survived' , 'Not survived'], autopct='%1.1f%%', shadow=True, startangle=90)\n",
    "PC1_ax.axis('equal') \n",
    " \n",
    "#Диаграмма распределения выживших/погибших во 2 классе\n",
    "PC2_fig, PC2_ax = plt.subplots()\n",
    "if PC2.stack().value_counts()[1] > PC2.stack().value_counts()[0]: #Распределение выживших/погибших\n",
    "    label = ['Survived' , 'Not survived']\n",
    "else:\n",
    "    label = ['Not survived', 'Survived']\n",
    "plt.title('Class 2')\n",
    "PC2_ax.pie(PC2_data[-2:], explode=(0, 0), labels=label, autopct='%1.1f%%')\n",
    "PC2_ax.axis('equal')\n",
    "\n",
    "#Диаграмма распределения выживших/погибших в 3 классе\n",
    "PC3_fig, PC3_ax = plt.subplots()\n",
    "if PC3.stack().value_counts()[1] > PC3.stack().value_counts()[0]: #Распределение выживших/погибших\n",
    "    label = ['Survived' , 'Not survived']\n",
    "else:\n",
    "    label = ['Not survived', 'Survived']\n",
    "plt.title('Class 3')\n",
    "PC3_ax.pie(PC3_data[-2:], explode=(0, 0), labels=label, autopct='%1.1f%%')\n",
    "PC3_ax.axis('equal')"
   ]
  },
  {
   "cell_type": "code",
   "execution_count": 9,
   "metadata": {
    "collapsed": true
   },
   "outputs": [],
   "source": [
    "# В первом классе процент выжихших больше всего (причем как в процентном, так и в численном соотношении)\n",
    "# Во втором классе погибло чуть больше половины пассажиров\n",
    "# В третьем погибло 3/4 пассажиров\n",
    "# Интересно, что меньше всего на Титанике было пассажиров второго класса"
   ]
  },
  {
   "cell_type": "code",
   "execution_count": 10,
   "metadata": {
    "collapsed": true
   },
   "outputs": [],
   "source": [
    "data3 = df[[\"Pclass\", \"Fare\"]] #Выбор данных для поиска зависимости между классом и ценой билета\n",
    "PCF1 = data3[data3['Pclass'] == 1]\n",
    "PCF2 = data3[data3['Pclass'] == 2]\n",
    "PCF3 = data3[data3['Pclass'] == 3]\n"
   ]
  },
  {
   "cell_type": "code",
   "execution_count": 11,
   "metadata": {
    "collapsed": false
   },
   "outputs": [
    {
     "data": {
      "image/png": "[encoded data removed]",
      "text/plain": [
       "<matplotlib.figure.Figure at 0xaa1a438>"
      ]
     },
     "metadata": {},
     "output_type": "display_data"
    }
   ],
   "source": [
    "classes = [PCF1[\"Fare\"].tolist(), PCF2[\"Fare\"].tolist(), PCF3[\"Fare\"].tolist()] #Выбор данных о цене билетов по классам\n",
    "fig, ax = plt.subplots()\n",
    "index = 1\n",
    "for i in classes: #Задание свойств графика\n",
    "    ax.plot(np.sort(i), label = 'Class ' + str(index))\n",
    "    index += 1\n",
    "ax.set_xlabel('Ticket')\n",
    "ax.set_ylabel('Fare')\n",
    "legend = ax.legend()\n",
    "plt.show()"
   ]
  },
  {
   "cell_type": "code",
   "execution_count": 12,
   "metadata": {
    "collapsed": true
   },
   "outputs": [],
   "source": [
    "# Цена билетов очевидная: 1 класс > 2 класс > 3 класс\n",
    "# В 3 классе у многих цена билета == 0, видимо, это обслуживающий персонал\n",
    "# Во 2 классе такие билеты тоже встречаются, а вот в 1 уже нет\n",
    "# Зато в 1 классе бывают очень дорогие билеты. Если во втором классе максимум в районе 80, в первом классе есть билеты за 300-500"
   ]
  },
  {
   "cell_type": "code",
   "execution_count": 13,
   "metadata": {
    "collapsed": true
   },
   "outputs": [],
   "source": [
    "#№2"
   ]
  },
  {
   "cell_type": "code",
   "execution_count": 14,
   "metadata": {
    "collapsed": false
   },
   "outputs": [],
   "source": [
    "data4 = df[['Survived', 'Sex', 'Pclass']] #Выбор данных для задачи о выживаемости в зависимости от пола и соц статуса"
   ]
  },
  {
   "cell_type": "code",
   "execution_count": 15,
   "metadata": {
    "collapsed": false
   },
   "outputs": [],
   "source": [
    "#Для мужчин\n",
    "male = data4[data4['Sex']=='male'] #Данные о поле\n",
    "males_class = []\n",
    "for i in [1, 2, 3]:\n",
    "    males_class.append(male[male['Pclass'] == i]) #Данные о классе\n",
    "males_survived_class = []\n",
    "for i in [0, 1, 2]:\n",
    "    males_survived_class.append(males_class[i][males_class[i][\"Survived\"] == 1]) #Данные о выживших по полу и классу\n",
    "male_results = []\n",
    "#Отношение выживших к погибшим в трех классах\n",
    "for i in range(3):\n",
    "    male_results.append(len(males_survived_class[i]) / len(males_class[i]))"
   ]
  },
  {
   "cell_type": "code",
   "execution_count": 16,
   "metadata": {
    "collapsed": false
   },
   "outputs": [],
   "source": [
    "#Для женщин\n",
    "female = data4[data4['Sex']=='female']#Данные о поле\n",
    "females_class = []\n",
    "for i in [1, 2, 3]:\n",
    "    females_class.append(female[female['Pclass'] == i])#Данные о классе\n",
    "females_survived_class = []\n",
    "for i in [0, 1, 2]:\n",
    "    females_survived_class.append(females_class[i][females_class[i][\"Survived\"] == 1])#Данные о выживших по полу и классу\n",
    "female_results = []\n",
    "#Отношение выживших к погибшим в трех классах\n",
    "for i in range(3):\n",
    "    female_results.append(len(females_survived_class[i]) / len(females_class[i]))"
   ]
  },
  {
   "cell_type": "code",
   "execution_count": 17,
   "metadata": {
    "collapsed": false
   },
   "outputs": [
    {
     "name": "stdout",
     "output_type": "stream",
     "text": [
      "[0.36885245901639346, 0.1574074074074074, 0.13544668587896252]\n",
      "[0.9680851063829787, 0.9210526315789473, 0.5]\n"
     ]
    }
   ],
   "source": [
    "#Печать численных результатов\n",
    "print(male_results)\n",
    "print(female_results)"
   ]
  },
  {
   "cell_type": "code",
   "execution_count": 18,
   "metadata": {
    "collapsed": false
   },
   "outputs": [
    {
     "data": {
      "image/png": "[encoded data removed]",
      "text/plain": [
       "<matplotlib.figure.Figure at 0xbc4b0b8>"
      ]
     },
     "metadata": {},
     "output_type": "display_data"
    }
   ],
   "source": [
    "#Вывод результатов на график\n",
    "fig, ax = plt.subplots()\n",
    "dist = np.arange(1, len(female_results) + 1) #Параметры внешнего вида графика\n",
    "plt.bar(dist, female_results, width = 0.5)\n",
    "plt.bar(dist + 0.25, male_results, width = 0.5)\n",
    "plt.xticks(dist + 0.25, dist)\n",
    "ax.set_ylabel('Вероятность выжить')\n",
    "ax.set_xticklabels(('Class 1', 'Class 2', 'Class 3'))\n",
    "plt.show()"
   ]
  },
  {
   "cell_type": "code",
   "execution_count": 19,
   "metadata": {
    "collapsed": true
   },
   "outputs": [],
   "source": [
    "#Как уже было показано, вероятность для женщины выжить гораздо выше, чем для мужчины\n",
    "#В первом и втором классе вероятность аж более 90% для женщины, и 36 и 15 для мужчины соответственно. \n",
    "#Во втором и третьем классе практически одинаковая вероятность выжить у мужчины: 15 и 13 процентов\n",
    "#Такие дела..."
   ]
  },
  {
   "cell_type": "code",
   "execution_count": 20,
   "metadata": {
    "collapsed": true
   },
   "outputs": [],
   "source": [
    "#№3"
   ]
  },
  {
   "cell_type": "code",
   "execution_count": 25,
   "metadata": {
    "collapsed": false
   },
   "outputs": [],
   "source": [
    "clear_data = pandas.DataFrame(df, columns=['Survived', 'Pclass', 'Sex', 'Age', 'Fare', 'SibSp', 'Parch']) #Выбрать все столбцы с полезной информацией\n",
    "clear_data['Sex'] = clear_data['Sex'].map({'female': 0, 'male':1}).astype(int) #Замена названий полов на 1/0\n",
    "clear_data.fillna(clear_data['Age'].mean(skipna=True), inplace=True)"
   ]
  },
  {
   "cell_type": "code",
   "execution_count": 26,
   "metadata": {
    "collapsed": false
   },
   "outputs": [],
   "source": [
    "#№4"
   ]
  },
  {
   "cell_type": "code",
   "execution_count": 56,
   "metadata": {
    "collapsed": false
   },
   "outputs": [],
   "source": [
    "columns = ['Pclass', 'Fare', 'Age', 'Sex', 'Parch', 'SibSp']\n",
    "X, y = clear_data[columns], clear_data['Survived']\n",
    "X_train, X_test, y_train, y_test = train_test_split(X, y, test_size=0.3) #Делим на выборки"
   ]
  },
  {
   "cell_type": "code",
   "execution_count": 57,
   "metadata": {
    "collapsed": false
   },
   "outputs": [
    {
     "name": "stdout",
     "output_type": "stream",
     "text": [
      "{'criterion': 'gini', 'max_depth': 3, 'max_leaf_nodes': 9, 'min_samples_leaf': 6, 'min_samples_split': 2, 'min_weight_fraction_leaf': 0.0, 'splitter': 'best'}\n"
     ]
    }
   ],
   "source": [
    "#Посмотрим, какие параметры подходят наилучшим образом\n",
    "parameters = {'max_depth': np.arange(2, 10),'criterion': ('gini', 'entropy'),'min_samples_leaf': np.arange(1, 10),\n",
    "                  'min_samples_split': np.arange(2, 10), 'min_weight_fraction_leaf': np.arange(0, 0.5), \n",
    "              'max_leaf_nodes': np.arange(2, 10), 'splitter' : ('best', 'random')}\n",
    "search_params = GridSearchCV(DecisionTreeClassifier(), parameters)\n",
    "search_params.fit(X_train, y_train)\n",
    "print(search_params.best_params_)"
   ]
  },
  {
   "cell_type": "code",
   "execution_count": 65,
   "metadata": {
    "collapsed": false
   },
   "outputs": [
    {
     "name": "stdout",
     "output_type": "stream",
     "text": [
      "             precision    recall  f1-score   support\n",
      "\n",
      "          0       0.93      0.81      0.87       172\n",
      "          1       0.72      0.90      0.80        96\n",
      "\n",
      "avg / total       0.86      0.84      0.84       268\n",
      "\n"
     ]
    }
   ],
   "source": [
    "#И построим с ними дерево\n",
    "tree = DecisionTreeClassifier(criterion = 'gini', max_depth = 3, min_samples_leaf = 6, \n",
    "                              max_leaf_nodes = 9, min_samples_split = 2, min_weight_fraction_leaf = 0, splitter = 'best')\n",
    "tree.fit(X_train, y_train)\n",
    "#Заодно посмотрим, насколько хорошо оно работает\n",
    "est_predict = tree.predict(X_test)\n",
    "print(classification_report(y_test, est_predict))"
   ]
  },
  {
   "cell_type": "code",
   "execution_count": 72,
   "metadata": {
    "collapsed": false
   },
   "outputs": [],
   "source": [
    "export_graphviz(tree, out_file = \"best_tree.dot\")"
   ]
  },
  {
   "cell_type": "code",
   "execution_count": 69,
   "metadata": {
    "collapsed": true
   },
   "outputs": [],
   "source": [
    "#5\n",
    "#Проделать то же самое для рандом форест"
   ]
  },
  {
   "cell_type": "code",
   "execution_count": 70,
   "metadata": {
    "collapsed": false
   },
   "outputs": [
    {
     "name": "stdout",
     "output_type": "stream",
     "text": [
      "{'n_estimators': 45}\n"
     ]
    }
   ],
   "source": [
    "#Посчитаем наилучшие параметры\n",
    "parameters = {'n_estimators': np.arange(1, 50)}\n",
    "search_params = GridSearchCV(RandomForestClassifier(), parameters)\n",
    "search_params.fit(X_train, y_train)\n",
    "print(search_params.best_params_)"
   ]
  },
  {
   "cell_type": "code",
   "execution_count": 71,
   "metadata": {
    "collapsed": false
   },
   "outputs": [
    {
     "name": "stdout",
     "output_type": "stream",
     "text": [
      "             precision    recall  f1-score   support\n",
      "\n",
      "          0       0.91      0.87      0.89       172\n",
      "          1       0.79      0.84      0.81        96\n",
      "\n",
      "avg / total       0.87      0.86      0.86       268\n",
      "\n"
     ]
    }
   ],
   "source": [
    "forest = RandomForestClassifier(n_estimators = 45)\n",
    "forest.fit(X_train, y_train)\n",
    "#Посмотрим, насколько хорошо оно работает\n",
    "est_predict = forest.predict(X_test)\n",
    "print(classification_report(y_test, est_predict))"
   ]
  },
  {
   "cell_type": "code",
   "execution_count": 73,
   "metadata": {
    "collapsed": true
   },
   "outputs": [],
   "source": [
    "#Результаты очень похожи, но у рандом фореста слегка выше. Средняя точность на 0.1, полнота и f на 0.2"
   ]
  }
 ],
 "metadata": {
  "kernelspec": {
   "display_name": "Python 3",
   "language": "python",
   "name": "python3"
  },
  "language_info": {
   "codemirror_mode": {
    "name": "ipython",
    "version": 3
   },
   "file_extension": ".py",
   "mimetype": "text/x-python",
   "name": "python",
   "nbconvert_exporter": "python",
   "pygments_lexer": "ipython3",
   "version": "3.6.0"
  }
 },
 "nbformat": 4,
 "nbformat_minor": 2
}
