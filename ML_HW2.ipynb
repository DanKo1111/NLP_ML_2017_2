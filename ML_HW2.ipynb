{
 "cells": [
  {
   "cell_type": "code",
   "execution_count": 48,
   "metadata": {
    "collapsed": true
   },
   "outputs": [],
   "source": [
    "import pandas, re, itertools\n",
    "import numpy as np\n",
    "import matplotlib.pyplot as plt\n",
    "\n",
    "from nltk import word_tokenize\n",
    "from nltk.corpus import stopwords\n",
    "from nltk.tokenize import wordpunct_tokenize\n",
    "from nltk.stem import * \n",
    "from nltk.stem.snowball import SnowballStemmer \n",
    "from nltk.stem import WordNetLemmatizer\n",
    "\n",
    "from sklearn.feature_extraction.text import CountVectorizer, TfidfTransformer\n",
    "from sklearn.naive_bayes import MultinomialNB\n",
    "from sklearn.metrics import classification_report, f1_score, accuracy_score, confusion_matrix\n",
    "from sklearn.pipeline import Pipeline\n",
    "from sklearn.model_selection import StratifiedKFold, cross_val_score, train_test_split\n",
    "\n",
    "from sklearn.dummy import DummyClassifier\n",
    "from sklearn.feature_extraction.text import CountVectorizer, TfidfVectorizer\n",
    "from sklearn import svm, datasets, tree\n",
    "from sklearn.metrics import confusion_matrix\n",
    "\n",
    "%matplotlib inline"
   ]
  },
  {
   "cell_type": "code",
   "execution_count": 49,
   "metadata": {
    "collapsed": true
   },
   "outputs": [],
   "source": [
    "def plot_confusion_matrix(cm, classes, #Функция из документации sklearn\n",
    "                          normalize=False,\n",
    "                          title='Confusion matrix',\n",
    "                          cmap=plt.cm.Blues):\n",
    "    \"\"\"\n",
    "    This function prints and plots the confusion matrix.\n",
    "    Normalization can be applied by setting `normalize=True`.\n",
    "    \"\"\"\n",
    "    plt.imshow(cm, interpolation='nearest', cmap=cmap)\n",
    "    plt.title(title)\n",
    "    plt.colorbar()\n",
    "    tick_marks = np.arange(len(classes))\n",
    "    plt.xticks(tick_marks, classes, rotation=45)\n",
    "    plt.yticks(tick_marks, classes)\n",
    "\n",
    "    if normalize:\n",
    "        cm = cm.astype('float') / cm.sum(axis=1)[:, np.newaxis]\n",
    "        print(\"Normalized confusion matrix\")\n",
    "    else:\n",
    "        print('Confusion matrix, without normalization')\n",
    "\n",
    "    print(cm)\n",
    "\n",
    "    thresh = cm.max() / 2.\n",
    "    for i, j in itertools.product(range(cm.shape[0]), range(cm.shape[1])):\n",
    "        plt.text(j, i, cm[i, j],\n",
    "                 horizontalalignment=\"center\",\n",
    "                 color=\"white\" if cm[i, j] > thresh else \"black\")\n",
    "\n",
    "    plt.tight_layout()\n",
    "    plt.ylabel('True label')\n",
    "    plt.xlabel('Predicted label')"
   ]
  },
  {
   "cell_type": "code",
   "execution_count": 9,
   "metadata": {
    "collapsed": false
   },
   "outputs": [],
   "source": [
    "messages = pandas.read_csv(\"SMSSpamCollection.csv\", sep='\\t', names=[\"label\", \"message\"])\n",
    "\n",
    "def tokenize(text):\n",
    "    text = text.lower()\n",
    "    return word_tokenize(text)\n"
   ]
  },
  {
   "cell_type": "code",
   "execution_count": 15,
   "metadata": {
    "collapsed": false
   },
   "outputs": [
    {
     "data": {
      "text/html": [
       "<div>\n",
       "<table border=\"1\" class=\"dataframe\">\n",
       "  <thead>\n",
       "    <tr style=\"text-align: right;\">\n",
       "      <th></th>\n",
       "      <th></th>\n",
       "      <th>message</th>\n",
       "    </tr>\n",
       "    <tr>\n",
       "      <th>label</th>\n",
       "      <th></th>\n",
       "      <th></th>\n",
       "    </tr>\n",
       "  </thead>\n",
       "  <tbody>\n",
       "    <tr>\n",
       "      <th rowspan=\"4\" valign=\"top\">ham</th>\n",
       "      <th>count</th>\n",
       "      <td>4199</td>\n",
       "    </tr>\n",
       "    <tr>\n",
       "      <th>unique</th>\n",
       "      <td>3955</td>\n",
       "    </tr>\n",
       "    <tr>\n",
       "      <th>top</th>\n",
       "      <td>Sorry, I'll call later</td>\n",
       "    </tr>\n",
       "    <tr>\n",
       "      <th>freq</th>\n",
       "      <td>23</td>\n",
       "    </tr>\n",
       "    <tr>\n",
       "      <th rowspan=\"4\" valign=\"top\">spam</th>\n",
       "      <th>count</th>\n",
       "      <td>638</td>\n",
       "    </tr>\n",
       "    <tr>\n",
       "      <th>unique</th>\n",
       "      <td>567</td>\n",
       "    </tr>\n",
       "    <tr>\n",
       "      <th>top</th>\n",
       "      <td>Please call our customer service representativ...</td>\n",
       "    </tr>\n",
       "    <tr>\n",
       "      <th>freq</th>\n",
       "      <td>4</td>\n",
       "    </tr>\n",
       "  </tbody>\n",
       "</table>\n",
       "</div>"
      ],
      "text/plain": [
       "                                                        message\n",
       "label                                                          \n",
       "ham   count                                                4199\n",
       "      unique                                               3955\n",
       "      top                                Sorry, I'll call later\n",
       "      freq                                                   23\n",
       "spam  count                                                 638\n",
       "      unique                                                567\n",
       "      top     Please call our customer service representativ...\n",
       "      freq                                                    4"
      ]
     },
     "execution_count": 15,
     "metadata": {},
     "output_type": "execute_result"
    }
   ],
   "source": [
    "messages.groupby('label').describe()"
   ]
  },
  {
   "cell_type": "code",
   "execution_count": 16,
   "metadata": {
    "collapsed": true
   },
   "outputs": [],
   "source": [
    "#Тут мы видим, что ham практически в 7 раз более частотный, чем spam. \n",
    "#Выборка не сбалансирована, dummy classifier по максимальной частотности будет всем присваивать значение ham\n",
    "#"
   ]
  },
  {
   "cell_type": "code",
   "execution_count": 61,
   "metadata": {
    "collapsed": false
   },
   "outputs": [
    {
     "data": {
      "text/plain": [
       "ham     1269\n",
       "spam     183\n",
       "Name: label, dtype: int64"
      ]
     },
     "execution_count": 61,
     "metadata": {},
     "output_type": "execute_result"
    }
   ],
   "source": [
    "message_train, message_test, label_train, label_test = train_test_split(messages['message'], messages['label'], test_size=0.3)\n",
    "label_test.value_counts()"
   ]
  },
  {
   "cell_type": "code",
   "execution_count": 62,
   "metadata": {
    "collapsed": true
   },
   "outputs": [],
   "source": [
    "#Точность будет равна 0.88. Такое высокое значение из-за несбалансированности датасета\n",
    "#Если потом запустить его на корпусе вообще без хама, точность будет 0"
   ]
  },
  {
   "cell_type": "code",
   "execution_count": 63,
   "metadata": {
    "collapsed": false
   },
   "outputs": [
    {
     "data": {
      "text/html": [
       "<div>\n",
       "<table border=\"1\" class=\"dataframe\">\n",
       "  <thead>\n",
       "    <tr style=\"text-align: right;\">\n",
       "      <th></th>\n",
       "      <th></th>\n",
       "      <th>message</th>\n",
       "    </tr>\n",
       "    <tr>\n",
       "      <th>label</th>\n",
       "      <th></th>\n",
       "      <th></th>\n",
       "    </tr>\n",
       "  </thead>\n",
       "  <tbody>\n",
       "    <tr>\n",
       "      <th rowspan=\"4\" valign=\"top\">ham</th>\n",
       "      <th>count</th>\n",
       "      <td>300</td>\n",
       "    </tr>\n",
       "    <tr>\n",
       "      <th>unique</th>\n",
       "      <td>296</td>\n",
       "    </tr>\n",
       "    <tr>\n",
       "      <th>top</th>\n",
       "      <td>As per your request 'Melle Melle (Oru Minnamin...</td>\n",
       "    </tr>\n",
       "    <tr>\n",
       "      <th>freq</th>\n",
       "      <td>3</td>\n",
       "    </tr>\n",
       "    <tr>\n",
       "      <th rowspan=\"4\" valign=\"top\">spam</th>\n",
       "      <th>count</th>\n",
       "      <td>300</td>\n",
       "    </tr>\n",
       "    <tr>\n",
       "      <th>unique</th>\n",
       "      <td>282</td>\n",
       "    </tr>\n",
       "    <tr>\n",
       "      <th>top</th>\n",
       "      <td>Your free ringtone is waiting to be collected....</td>\n",
       "    </tr>\n",
       "    <tr>\n",
       "      <th>freq</th>\n",
       "      <td>2</td>\n",
       "    </tr>\n",
       "  </tbody>\n",
       "</table>\n",
       "</div>"
      ],
      "text/plain": [
       "                                                        message\n",
       "label                                                          \n",
       "ham   count                                                 300\n",
       "      unique                                                296\n",
       "      top     As per your request 'Melle Melle (Oru Minnamin...\n",
       "      freq                                                    3\n",
       "spam  count                                                 300\n",
       "      unique                                                282\n",
       "      top     Your free ringtone is waiting to be collected....\n",
       "      freq                                                    2"
      ]
     },
     "execution_count": 63,
     "metadata": {},
     "output_type": "execute_result"
    }
   ],
   "source": [
    "spams = messages[messages['label']=='spam']\n",
    "hams = messages[messages['label']=='ham']\n",
    "#Сделаем выборку из равного количества спама и хама\n",
    "train_set = pandas.concat([spams[:300], hams[:300]], ignore_index = True)\n",
    "test_set = pandas.concat([spams[300:], hams[300:]], ignore_index = True)\n",
    "train_set.groupby('label').describe()"
   ]
  },
  {
   "cell_type": "code",
   "execution_count": 64,
   "metadata": {
    "collapsed": true
   },
   "outputs": [],
   "source": [
    "X_train = list(train_set['message'])\n",
    "y_train = np.array(train_set['label'])\n",
    "X_test = list(test_set['message'])\n",
    "y_test = np.array(test_set['label'])"
   ]
  },
  {
   "cell_type": "code",
   "execution_count": 74,
   "metadata": {
    "collapsed": true
   },
   "outputs": [],
   "source": [
    "def nb_classif(bow, m_type, vect_type): #Функция для рассчета по наивному Байесу\n",
    "    nb_model = MultinomialNB()\n",
    "    b_train = bow.fit_transform(X_train) \n",
    "    nb_model.fit(b_train, y_train)\n",
    "    b_test = bow.transform(X_test)\n",
    "    predict = nb_model.predict(b_test)\n",
    "    matrix = confusion_matrix(y_test, predict)\n",
    "    print(\"\\n\", vect_type, m_type)\n",
    "    print(classification_report(y_test, predict, target_names=['Ham', 'Spam']))\n",
    "    plt.figure()\n",
    "    print(\"\\n\", vect_type, m_type)\n",
    "    plot_confusion_matrix(matrix, classes=['ham', 'spam'])"
   ]
  },
  {
   "cell_type": "code",
   "execution_count": 76,
   "metadata": {
    "collapsed": false
   },
   "outputs": [
    {
     "name": "stdout",
     "output_type": "stream",
     "text": [
      "\n",
      " Count Vectorizer Токенизация без пунктуации\n",
      "             precision    recall  f1-score   support\n",
      "\n",
      "        Ham       0.99      0.97      0.98      3899\n",
      "       Spam       0.72      0.92      0.81       338\n",
      "\n",
      "avg / total       0.97      0.97      0.97      4237\n",
      "\n",
      "\n",
      " Count Vectorizer Токенизация без пунктуации\n",
      "Confusion matrix, without normalization\n",
      "[[3779  120]\n",
      " [  27  311]]\n",
      "\n",
      " TfIdf Vectorizer Токенизация без пунктуации\n",
      "             precision    recall  f1-score   support\n",
      "\n",
      "        Ham       0.99      0.95      0.97      3899\n",
      "       Spam       0.63      0.94      0.75       338\n",
      "\n",
      "avg / total       0.97      0.95      0.95      4237\n",
      "\n",
      "\n",
      " TfIdf Vectorizer Токенизация без пунктуации\n",
      "Confusion matrix, without normalization\n",
      "[[3708  191]\n",
      " [  19  319]]\n"
     ]
    },
    {
     "data": {
      "image/png": "[encoded data removed]",
      "text/plain": [
       "<matplotlib.figure.Figure at 0x1175e780>"
      ]
     },
     "metadata": {},
     "output_type": "display_data"
    },
    {
     "data": {
      "image/png": "[encoded data removed]",
      "text/plain": [
       "<matplotlib.figure.Figure at 0x11108898>"
      ]
     },
     "metadata": {},
     "output_type": "display_data"
    }
   ],
   "source": [
    "def tokenize_wo_punct(text): #Токенизация без пунктуации\n",
    "    return word_tokenize(re.sub(\"[.,!?\\(\\)\\-\\:\\;\\'\\\"]\", \"\", text.lower())) \n",
    "\n",
    "bow = CountVectorizer(analyzer=tokenize_wo_punct)\n",
    "nb_classif(bow, \"Токенизация без пунктуации\", \"Count Vectorizer\")\n",
    "bow = TfidfVectorizer(analyzer=tokenize_wo_punct)\n",
    "nb_classif(bow, \"Токенизация без пунктуации\", \"TfIdf Vectorizer\")\n",
    "\n"
   ]
  },
  {
   "cell_type": "code",
   "execution_count": 81,
   "metadata": {
    "collapsed": true
   },
   "outputs": [],
   "source": [
    "#В этом случае полнота примерно одинаковая (выше 92%).\n",
    "#Точность На выделение хама 99% обоими методами\n",
    "# Точность выделения спама у count vectorizer (72%) выше, чем у tfidf (63%) \n",
    "#"
   ]
  },
  {
   "cell_type": "code",
   "execution_count": 77,
   "metadata": {
    "collapsed": false
   },
   "outputs": [
    {
     "name": "stdout",
     "output_type": "stream",
     "text": [
      "\n",
      " Count Vectorizer Токенизация с пунктуацией\n",
      "             precision    recall  f1-score   support\n",
      "\n",
      "        Ham       1.00      0.98      0.99      3899\n",
      "       Spam       0.78      0.95      0.86       338\n",
      "\n",
      "avg / total       0.98      0.98      0.98      4237\n",
      "\n",
      "\n",
      " Count Vectorizer Токенизация с пунктуацией\n",
      "Confusion matrix, without normalization\n",
      "[[3811   88]\n",
      " [  17  321]]\n",
      "\n",
      " TfIdf Vectorizer Токенизация с пунктуацией\n",
      "             precision    recall  f1-score   support\n",
      "\n",
      "        Ham       1.00      0.96      0.98      3899\n",
      "       Spam       0.65      0.96      0.77       338\n",
      "\n",
      "avg / total       0.97      0.96      0.96      4237\n",
      "\n",
      "\n",
      " TfIdf Vectorizer Токенизация с пунктуацией\n",
      "Confusion matrix, without normalization\n",
      "[[3724  175]\n",
      " [  15  323]]\n"
     ]
    },
    {
     "data": {
      "image/png": "[encoded data removed]",
      "text/plain": [
       "<matplotlib.figure.Figure at 0x11753048>"
      ]
     },
     "metadata": {},
     "output_type": "display_data"
    },
    {
     "data": {
      "image/png": "[encoded data removed]",
      "text/plain": [
       "<matplotlib.figure.Figure at 0x11706e80>"
      ]
     },
     "metadata": {},
     "output_type": "display_data"
    }
   ],
   "source": [
    "def tokenize_w_punct(text): #Токенизация с пунктуацией\n",
    "    return wordpunct_tokenize(text.lower()) \n",
    "bow = CountVectorizer(analyzer=tokenize_w_punct)\n",
    "nb_classif(bow, \"Токенизация с пунктуацией\", \"Count Vectorizer\")\n",
    "bow = TfidfVectorizer(analyzer=tokenize_w_punct)\n",
    "nb_classif(bow, \"Токенизация с пунктуацией\", \"TfIdf Vectorizer\")"
   ]
  },
  {
   "cell_type": "code",
   "execution_count": null,
   "metadata": {
    "collapsed": true
   },
   "outputs": [],
   "source": [
    "#По сравнению с методом без пунктуации все параметры поиска получились выше.\n",
    "# Разница между count и tfidf такая же, как и в токенизации без пунктуации\n",
    "# В целом, этот вариант лучше предыдущего\n",
    "#"
   ]
  },
  {
   "cell_type": "code",
   "execution_count": 78,
   "metadata": {
    "collapsed": false
   },
   "outputs": [
    {
     "name": "stdout",
     "output_type": "stream",
     "text": [
      "\n",
      " Count Vectorizer Стемминг\n",
      "             precision    recall  f1-score   support\n",
      "\n",
      "        Ham       0.99      0.97      0.98      3899\n",
      "       Spam       0.75      0.93      0.83       338\n",
      "\n",
      "avg / total       0.97      0.97      0.97      4237\n",
      "\n",
      "\n",
      " Count Vectorizer Стемминг\n",
      "Confusion matrix, without normalization\n",
      "[[3792  107]\n",
      " [  24  314]]\n",
      "\n",
      " TfIdf Vectorizer Стемминг\n",
      "             precision    recall  f1-score   support\n",
      "\n",
      "        Ham       1.00      0.96      0.98      3899\n",
      "       Spam       0.65      0.95      0.77       338\n",
      "\n",
      "avg / total       0.97      0.96      0.96      4237\n",
      "\n",
      "\n",
      " TfIdf Vectorizer Стемминг\n",
      "Confusion matrix, without normalization\n",
      "[[3727  172]\n",
      " [  18  320]]\n"
     ]
    },
    {
     "data": {
      "image/png": "[encoded data removed]",
      "text/plain": [
       "<matplotlib.figure.Figure at 0x12dd05f8>"
      ]
     },
     "metadata": {},
     "output_type": "display_data"
    },
    {
     "data": {
      "image/png": "[encoded data removed]",
      "text/plain": [
       "<matplotlib.figure.Figure at 0x12f0a438>"
      ]
     },
     "metadata": {},
     "output_type": "display_data"
    }
   ],
   "source": [
    "def stemming(text): #Стемминг\n",
    "    stemmer = SnowballStemmer(\"english\") \n",
    "    tokens = word_tokenize(text)\n",
    "    stemmas = [stemmer.stem(token) for token in tokens]\n",
    "    return stemmas \n",
    "bow = CountVectorizer(analyzer=stemming)\n",
    "nb_classif(bow, \"Стемминг\", \"Count Vectorizer\")\n",
    "bow = TfidfVectorizer(analyzer=stemming)\n",
    "nb_classif(bow, \"Стемминг\", \"TfIdf Vectorizer\")"
   ]
  },
  {
   "cell_type": "code",
   "execution_count": null,
   "metadata": {
    "collapsed": true
   },
   "outputs": [],
   "source": [
    "# Стемминг чуть лучше токенизации без пунктуации , но хуже токенизации с пунктуацией\n",
    "#"
   ]
  },
  {
   "cell_type": "code",
   "execution_count": 79,
   "metadata": {
    "collapsed": false
   },
   "outputs": [
    {
     "name": "stdout",
     "output_type": "stream",
     "text": [
      "\n",
      " Count Vectorizer Лемматизация\n",
      "             precision    recall  f1-score   support\n",
      "\n",
      "        Ham       0.99      0.96      0.98      3899\n",
      "       Spam       0.68      0.92      0.78       338\n",
      "\n",
      "avg / total       0.97      0.96      0.96      4237\n",
      "\n",
      "\n",
      " Count Vectorizer Лемматизация\n",
      "Confusion matrix, without normalization\n",
      "[[3755  144]\n",
      " [  28  310]]\n",
      "\n",
      " TfIdf Vectorizer Лемматизация\n",
      "             precision    recall  f1-score   support\n",
      "\n",
      "        Ham       0.99      0.94      0.97      3899\n",
      "       Spam       0.58      0.93      0.72       338\n",
      "\n",
      "avg / total       0.96      0.94      0.95      4237\n",
      "\n",
      "\n",
      " TfIdf Vectorizer Лемматизация\n",
      "Confusion matrix, without normalization\n",
      "[[3672  227]\n",
      " [  22  316]]\n"
     ]
    },
    {
     "data": {
      "image/png": "[encoded data removed]",
      "text/plain": [
       "<matplotlib.figure.Figure at 0x12cf7550>"
      ]
     },
     "metadata": {},
     "output_type": "display_data"
    },
    {
     "data": {
      "image/png": "[encoded data removed]",
      "text/plain": [
       "<matplotlib.figure.Figure at 0x12dc7400>"
      ]
     },
     "metadata": {},
     "output_type": "display_data"
    }
   ],
   "source": [
    "def lemmatising(text): #Лемматизация\n",
    "    lemmatizer = WordNetLemmatizer()\n",
    "    tokens = word_tokenize(text)\n",
    "    lemmas = [lemmatizer.lemmatize(token) for token in tokens]\n",
    "    return lemmas\n",
    "bow = CountVectorizer(analyzer=lemmatising)\n",
    "nb_classif(bow, \"Лемматизация\", \"Count Vectorizer\")\n",
    "bow = TfidfVectorizer(analyzer=lemmatising)\n",
    "nb_classif(bow, \"Лемматизация\", \"TfIdf Vectorizer\")"
   ]
  },
  {
   "cell_type": "code",
   "execution_count": null,
   "metadata": {
    "collapsed": true
   },
   "outputs": [],
   "source": [
    "# По точности выделения спама лемматизация проигрывает всем вышеприведенным способам\n",
    "# Точность выделения хама 99%, полнота выше 92%\n",
    "#"
   ]
  },
  {
   "cell_type": "code",
   "execution_count": 80,
   "metadata": {
    "collapsed": false
   },
   "outputs": [
    {
     "name": "stdout",
     "output_type": "stream",
     "text": [
      "\n",
      " Count Vectorizer Стоп-слова\n",
      "             precision    recall  f1-score   support\n",
      "\n",
      "        Ham       0.99      0.95      0.97      3899\n",
      "       Spam       0.62      0.92      0.74       338\n",
      "\n",
      "avg / total       0.96      0.95      0.95      4237\n",
      "\n",
      "\n",
      " Count Vectorizer Стоп-слова\n",
      "Confusion matrix, without normalization\n",
      "[[3706  193]\n",
      " [  26  312]]\n",
      "\n",
      " TfIdf Vectorizer Стоп-слова\n",
      "             precision    recall  f1-score   support\n",
      "\n",
      "        Ham       0.99      0.92      0.96      3899\n",
      "       Spam       0.51      0.94      0.66       338\n",
      "\n",
      "avg / total       0.96      0.92      0.93      4237\n",
      "\n",
      "\n",
      " TfIdf Vectorizer Стоп-слова\n",
      "Confusion matrix, without normalization\n",
      "[[3598  301]\n",
      " [  21  317]]\n"
     ]
    },
    {
     "data": {
      "image/png": "[encoded data removed]",
      "text/plain": [
       "<matplotlib.figure.Figure at 0x12ce5710>"
      ]
     },
     "metadata": {},
     "output_type": "display_data"
    },
    {
     "data": {
      "image/png": "[encoded data removed]",
      "text/plain": [
       "<matplotlib.figure.Figure at 0x12d90240>"
      ]
     },
     "metadata": {},
     "output_type": "display_data"
    }
   ],
   "source": [
    "def stop_words(text): #Удаление стоп-слов\n",
    "    stopWords = set(stopwords.words('english'))\n",
    "    tokens = word_tokenize(text)\n",
    "    result = [w for w in tokens if not w in stopWords] \n",
    "    return result\n",
    "bow = CountVectorizer(analyzer=stop_words)\n",
    "nb_classif(bow, \"Стоп-слова\", \"Count Vectorizer\")\n",
    "bow = TfidfVectorizer(analyzer=stop_words)\n",
    "nb_classif(bow, \"Стоп-слова\", \"TfIdf Vectorizer\")"
   ]
  },
  {
   "cell_type": "code",
   "execution_count": null,
   "metadata": {
    "collapsed": true
   },
   "outputs": [],
   "source": [
    "# Пожалуй, худший по точности выделения спама метод. \n",
    "# Точность для хама и полнота слабо отличаются от других методов. \n",
    "#"
   ]
  },
  {
   "cell_type": "code",
   "execution_count": null,
   "metadata": {
    "collapsed": true
   },
   "outputs": [],
   "source": [
    "#В целом, самым лучшим методом себя показала токенизация с выделением пунктуации в отдельные токены"
   ]
  },
  {
   "cell_type": "code",
   "execution_count": null,
   "metadata": {
    "collapsed": true
   },
   "outputs": [],
   "source": []
  },
  {
   "cell_type": "code",
   "execution_count": null,
   "metadata": {
    "collapsed": true
   },
   "outputs": [],
   "source": []
  },
  {
   "cell_type": "code",
   "execution_count": null,
   "metadata": {
    "collapsed": true
   },
   "outputs": [],
   "source": []
  },
  {
   "cell_type": "code",
   "execution_count": null,
   "metadata": {
    "collapsed": true
   },
   "outputs": [],
   "source": []
  }
 ],
 "metadata": {
  "kernelspec": {
   "display_name": "Python 3",
   "language": "python",
   "name": "python3"
  },
  "language_info": {
   "codemirror_mode": {
    "name": "ipython",
    "version": 3
   },
   "file_extension": ".py",
   "mimetype": "text/x-python",
   "name": "python",
   "nbconvert_exporter": "python",
   "pygments_lexer": "ipython3",
   "version": "3.6.0"
  }
 },
 "nbformat": 4,
 "nbformat_minor": 2
}
