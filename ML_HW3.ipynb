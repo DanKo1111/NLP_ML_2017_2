{
 "cells": [
  {
   "cell_type": "code",
   "execution_count": 74,
   "metadata": {
    "collapsed": false
   },
   "outputs": [],
   "source": [
    "import numpy as np\n",
    "import pandas, re, itertools\n",
    "import matplotlib.pyplot as plt\n",
    "from nltk import word_tokenize, wordpunct_tokenize\n",
    "from nltk.corpus import stopwords\n",
    "from nltk.metrics import ContingencyMeasures\n",
    "from nltk import BigramCollocationFinder\n",
    "import nltk.collocations\n",
    "from sklearn.tree import DecisionTreeClassifier\n",
    "from sklearn.dummy import DummyClassifier\n",
    "from sklearn.model_selection import train_test_split\n",
    "from sklearn.feature_extraction.text import CountVectorizer, TfidfVectorizer\n",
    "from sklearn.metrics import classification_report, confusion_matrix\n",
    "from sklearn.model_selection import cross_val_score\n",
    "from sklearn.naive_bayes import MultinomialNB\n",
    "from sklearn.ensemble import RandomForestClassifier\n",
    "from sklearn.linear_model import LogisticRegression\n",
    "%matplotlib inline"
   ]
  },
  {
   "cell_type": "code",
   "execution_count": 111,
   "metadata": {
    "collapsed": true
   },
   "outputs": [],
   "source": [
    "#Функция из документации sklearn\n",
    "def plot_confusion_matrix(cm, classes,\n",
    "                          normalize=False,\n",
    "                          title='Confusion matrix',\n",
    "                          cmap=plt.cm.Blues):\n",
    "    plt.imshow(cm, interpolation='nearest', cmap=cmap)\n",
    "    plt.title(title)\n",
    "    plt.colorbar()\n",
    "    tick_marks = np.arange(len(classes))\n",
    "    plt.xticks(tick_marks, classes, rotation=45)\n",
    "    plt.yticks(tick_marks, classes)\n",
    "\n",
    "    if normalize:\n",
    "        cm = cm.astype('float') / cm.sum(axis=1)[:, np.newaxis]\n",
    "        #print(\"Normalized confusion matrix\")\n",
    "        #print('Confusion matrix, without normalization')\n",
    "\n",
    "    #print(cm)\n",
    "\n",
    "    thresh = cm.max() / 2.\n",
    "    for i, j in itertools.product(range(cm.shape[0]), range(cm.shape[1])):\n",
    "        plt.text(j, i, cm[i, j],\n",
    "                 horizontalalignment=\"center\",\n",
    "                 color=\"white\" if cm[i, j] > thresh else \"black\")\n",
    "\n",
    "    plt.tight_layout()\n",
    "    plt.ylabel('True label')\n",
    "    plt.xlabel('Predicted label')"
   ]
  },
  {
   "cell_type": "code",
   "execution_count": 17,
   "metadata": {
    "collapsed": false,
    "scrolled": true
   },
   "outputs": [],
   "source": [
    "df = pandas.read_csv('all_seasons.csv') #Открываю датасет. Я работал над датасетом, в котором убрал все переводы строк из цитат"
   ]
  },
  {
   "cell_type": "code",
   "execution_count": 25,
   "metadata": {
    "collapsed": false
   },
   "outputs": [
    {
     "data": {
      "text/html": [
       "<div>\n",
       "<table border=\"1\" class=\"dataframe\">\n",
       "  <thead>\n",
       "    <tr style=\"text-align: right;\">\n",
       "      <th></th>\n",
       "      <th></th>\n",
       "      <th>index</th>\n",
       "    </tr>\n",
       "    <tr>\n",
       "      <th>Character</th>\n",
       "      <th></th>\n",
       "      <th></th>\n",
       "    </tr>\n",
       "  </thead>\n",
       "  <tbody>\n",
       "    <tr>\n",
       "      <th rowspan=\"8\" valign=\"top\">Cartman</th>\n",
       "      <th>count</th>\n",
       "      <td>9774.000000</td>\n",
       "    </tr>\n",
       "    <tr>\n",
       "      <th>mean</th>\n",
       "      <td>35263.191835</td>\n",
       "    </tr>\n",
       "    <tr>\n",
       "      <th>std</th>\n",
       "      <td>20659.601559</td>\n",
       "    </tr>\n",
       "    <tr>\n",
       "      <th>min</th>\n",
       "      <td>9.000000</td>\n",
       "    </tr>\n",
       "    <tr>\n",
       "      <th>25%</th>\n",
       "      <td>18123.500000</td>\n",
       "    </tr>\n",
       "    <tr>\n",
       "      <th>50%</th>\n",
       "      <td>35128.500000</td>\n",
       "    </tr>\n",
       "    <tr>\n",
       "      <th>75%</th>\n",
       "      <td>53294.750000</td>\n",
       "    </tr>\n",
       "    <tr>\n",
       "      <th>max</th>\n",
       "      <td>70722.000000</td>\n",
       "    </tr>\n",
       "    <tr>\n",
       "      <th rowspan=\"8\" valign=\"top\">Kenny</th>\n",
       "      <th>count</th>\n",
       "      <td>881.000000</td>\n",
       "    </tr>\n",
       "    <tr>\n",
       "      <th>mean</th>\n",
       "      <td>35397.415437</td>\n",
       "    </tr>\n",
       "    <tr>\n",
       "      <th>std</th>\n",
       "      <td>17867.917673</td>\n",
       "    </tr>\n",
       "    <tr>\n",
       "      <th>min</th>\n",
       "      <td>53.000000</td>\n",
       "    </tr>\n",
       "    <tr>\n",
       "      <th>25%</th>\n",
       "      <td>21240.000000</td>\n",
       "    </tr>\n",
       "    <tr>\n",
       "      <th>50%</th>\n",
       "      <td>37825.000000</td>\n",
       "    </tr>\n",
       "    <tr>\n",
       "      <th>75%</th>\n",
       "      <td>46527.000000</td>\n",
       "    </tr>\n",
       "    <tr>\n",
       "      <th>max</th>\n",
       "      <td>70422.000000</td>\n",
       "    </tr>\n",
       "    <tr>\n",
       "      <th rowspan=\"8\" valign=\"top\">Kyle</th>\n",
       "      <th>count</th>\n",
       "      <td>7099.000000</td>\n",
       "    </tr>\n",
       "    <tr>\n",
       "      <th>mean</th>\n",
       "      <td>36383.656149</td>\n",
       "    </tr>\n",
       "    <tr>\n",
       "      <th>std</th>\n",
       "      <td>20072.800135</td>\n",
       "    </tr>\n",
       "    <tr>\n",
       "      <th>min</th>\n",
       "      <td>1.000000</td>\n",
       "    </tr>\n",
       "    <tr>\n",
       "      <th>25%</th>\n",
       "      <td>20926.000000</td>\n",
       "    </tr>\n",
       "    <tr>\n",
       "      <th>50%</th>\n",
       "      <td>36350.000000</td>\n",
       "    </tr>\n",
       "    <tr>\n",
       "      <th>75%</th>\n",
       "      <td>53317.500000</td>\n",
       "    </tr>\n",
       "    <tr>\n",
       "      <th>max</th>\n",
       "      <td>70717.000000</td>\n",
       "    </tr>\n",
       "    <tr>\n",
       "      <th rowspan=\"8\" valign=\"top\">Stan</th>\n",
       "      <th>count</th>\n",
       "      <td>7680.000000</td>\n",
       "    </tr>\n",
       "    <tr>\n",
       "      <th>mean</th>\n",
       "      <td>38130.476823</td>\n",
       "    </tr>\n",
       "    <tr>\n",
       "      <th>std</th>\n",
       "      <td>20034.048647</td>\n",
       "    </tr>\n",
       "    <tr>\n",
       "      <th>min</th>\n",
       "      <td>0.000000</td>\n",
       "    </tr>\n",
       "    <tr>\n",
       "      <th>25%</th>\n",
       "      <td>21894.250000</td>\n",
       "    </tr>\n",
       "    <tr>\n",
       "      <th>50%</th>\n",
       "      <td>38407.000000</td>\n",
       "    </tr>\n",
       "    <tr>\n",
       "      <th>75%</th>\n",
       "      <td>55571.750000</td>\n",
       "    </tr>\n",
       "    <tr>\n",
       "      <th>max</th>\n",
       "      <td>70895.000000</td>\n",
       "    </tr>\n",
       "  </tbody>\n",
       "</table>\n",
       "</div>"
      ],
      "text/plain": [
       "                        index\n",
       "Character                    \n",
       "Cartman   count   9774.000000\n",
       "          mean   35263.191835\n",
       "          std    20659.601559\n",
       "          min        9.000000\n",
       "          25%    18123.500000\n",
       "          50%    35128.500000\n",
       "          75%    53294.750000\n",
       "          max    70722.000000\n",
       "Kenny     count    881.000000\n",
       "          mean   35397.415437\n",
       "          std    17867.917673\n",
       "          min       53.000000\n",
       "          25%    21240.000000\n",
       "          50%    37825.000000\n",
       "          75%    46527.000000\n",
       "          max    70422.000000\n",
       "Kyle      count   7099.000000\n",
       "          mean   36383.656149\n",
       "          std    20072.800135\n",
       "          min        1.000000\n",
       "          25%    20926.000000\n",
       "          50%    36350.000000\n",
       "          75%    53317.500000\n",
       "          max    70717.000000\n",
       "Stan      count   7680.000000\n",
       "          mean   38130.476823\n",
       "          std    20034.048647\n",
       "          min        0.000000\n",
       "          25%    21894.250000\n",
       "          50%    38407.000000\n",
       "          75%    55571.750000\n",
       "          max    70895.000000"
      ]
     },
     "execution_count": 25,
     "metadata": {},
     "output_type": "execute_result"
    }
   ],
   "source": [
    "#Выбираем данные, связанные с 4 главными героями\n",
    "characters = df[(df.Character == 'Cartman') | (df.Character == 'Kenny') | (df.Character == 'Kyle') | (df.Character == 'Stan')]\n",
    "characters.groupby('Character').describe() "
   ]
  },
  {
   "cell_type": "code",
   "execution_count": null,
   "metadata": {
    "collapsed": true
   },
   "outputs": [],
   "source": [
    "#Мало реплик Кенни. У остальных более-менее поровну. Не очень сбалансированная выборка получается."
   ]
  },
  {
   "cell_type": "code",
   "execution_count": 33,
   "metadata": {
    "collapsed": true
   },
   "outputs": [],
   "source": [
    "#Обсценную лексику точно оставить, она может указывать на персонажа"
   ]
  },
  {
   "cell_type": "code",
   "execution_count": 109,
   "metadata": {
    "collapsed": false
   },
   "outputs": [],
   "source": [
    "#Инициализация count и tfidf векторизации\n",
    "cvector = CountVectorizer(tokenizer=word_tokenize , stop_words=\"english\")\n",
    "tfidfvector = TfidfVectorizer(tokenizer=word_tokenize , stop_words=\"english\")\n",
    "#Инициализация аж пяти классификаторов\n",
    "classifier_dc = DummyClassifier() \n",
    "classifier_dtc = DecisionTreeClassifier()\n",
    "classifier_rfc = RandomForestClassifier()\n",
    "classifier_lr = LogisticRegression()\n",
    "classifier_nb = MultinomialNB()\n",
    "\n",
    "#Массив классификаторов и их названий\n",
    "classifiers = [[classifier_dc, \"Dummy\"], [classifier_dtc, \"Decision Tree\"], \n",
    "               [classifier_rfc, \"Random Forest\"], [classifier_lr, \"Logistic Regression\"], [classifier_nb, \"Naive Bayes\"]]"
   ]
  },
  {
   "cell_type": "code",
   "execution_count": 96,
   "metadata": {
    "collapsed": true
   },
   "outputs": [],
   "source": [
    "X_train, X_test, y_train, y_test = train_test_split(data['Line'] , data['Character'], test_size=0.3) #Деление на выборки"
   ]
  },
  {
   "cell_type": "code",
   "execution_count": 106,
   "metadata": {
    "collapsed": true
   },
   "outputs": [],
   "source": [
    "#Векторизация count и tfidf\n",
    "count_vector_train = cvector.fit_transform(X_train)\n",
    "count_vector_test = cvector.transform(X_test)\n",
    "\n",
    "tfidf_vector_train = tfidfvector.fit_transform(X_train)\n",
    "tfidf_vector_test = tfidfvector.transform(X_test)"
   ]
  },
  {
   "cell_type": "code",
   "execution_count": 108,
   "metadata": {
    "collapsed": false,
    "scrolled": false
   },
   "outputs": [
    {
     "name": "stdout",
     "output_type": "stream",
     "text": [
      "\n",
      "Dummy method\n",
      "Count Vectorize\n",
      "             precision    recall  f1-score   support\n",
      "\n",
      "    Cartman       0.40      0.40      0.40      2952\n",
      "      Kenny       0.02      0.02      0.02       268\n",
      "       Kyle       0.28      0.28      0.28      2129\n",
      "       Stan       0.29      0.29      0.29      2282\n",
      "\n",
      "avg / total       0.32      0.32      0.32      7631\n",
      "\n",
      "Cross Validation Score: 0.31803604088\n",
      "-----------------------------------------------------------\n",
      "\n",
      "TfIdf Vectorize\n",
      "             precision    recall  f1-score   support\n",
      "\n",
      "    Cartman       0.39      0.38      0.38      2952\n",
      "      Kenny       0.02      0.02      0.02       268\n",
      "       Kyle       0.28      0.28      0.28      2129\n",
      "       Stan       0.30      0.31      0.31      2282\n",
      "\n",
      "avg / total       0.32      0.32      0.32      7631\n",
      "\n",
      "Cross Validation Score: 0.319889216375\n",
      "============================================================================================\n",
      "============================================================================================\n",
      "\n",
      "Decision Tree method\n",
      "Count Vectorize\n",
      "             precision    recall  f1-score   support\n",
      "\n",
      "    Cartman       0.54      0.53      0.54      2952\n",
      "      Kenny       0.97      0.94      0.95       268\n",
      "       Kyle       0.38      0.36      0.37      2129\n",
      "       Stan       0.38      0.42      0.40      2282\n",
      "\n",
      "avg / total       0.46      0.46      0.46      7631\n",
      "\n",
      "Cross Validation Score: 0.468685898108\n",
      "-----------------------------------------------------------\n",
      "\n",
      "TfIdf Vectorize\n",
      "             precision    recall  f1-score   support\n",
      "\n",
      "    Cartman       0.53      0.56      0.54      2952\n",
      "      Kenny       0.96      0.94      0.95       268\n",
      "       Kyle       0.39      0.35      0.37      2129\n",
      "       Stan       0.39      0.40      0.39      2282\n",
      "\n",
      "avg / total       0.46      0.46      0.46      7631\n",
      "\n",
      "Cross Validation Score: 0.469696743036\n",
      "============================================================================================\n",
      "============================================================================================\n",
      "\n",
      "Random Forest method\n",
      "Count Vectorize\n",
      "             precision    recall  f1-score   support\n",
      "\n",
      "    Cartman       0.57      0.59      0.58      2952\n",
      "      Kenny       0.96      0.96      0.96       268\n",
      "       Kyle       0.41      0.38      0.39      2129\n",
      "       Stan       0.42      0.43      0.43      2282\n",
      "\n",
      "avg / total       0.50      0.50      0.50      7631\n",
      "\n",
      "Cross Validation Score: 0.49272500208\n",
      "-----------------------------------------------------------\n",
      "\n",
      "TfIdf Vectorize\n",
      "             precision    recall  f1-score   support\n",
      "\n",
      "    Cartman       0.54      0.67      0.60      2952\n",
      "      Kenny       0.96      0.95      0.96       268\n",
      "       Kyle       0.41      0.29      0.34      2129\n",
      "       Stan       0.41      0.39      0.40      2282\n",
      "\n",
      "avg / total       0.48      0.49      0.48      7631\n",
      "\n",
      "Cross Validation Score: 0.505253964491\n",
      "============================================================================================\n",
      "============================================================================================\n",
      "\n",
      "Logistic Regression method\n",
      "Count Vectorize\n",
      "             precision    recall  f1-score   support\n",
      "\n",
      "    Cartman       0.61      0.66      0.64      2952\n",
      "      Kenny       0.96      0.96      0.96       268\n",
      "       Kyle       0.47      0.36      0.41      2129\n",
      "       Stan       0.45      0.50      0.47      2282\n",
      "\n",
      "avg / total       0.54      0.54      0.53      7631\n",
      "\n",
      "Cross Validation Score: 0.53945794913\n",
      "-----------------------------------------------------------\n",
      "\n",
      "TfIdf Vectorize\n",
      "             precision    recall  f1-score   support\n",
      "\n",
      "    Cartman       0.57      0.75      0.65      2952\n",
      "      Kenny       0.97      0.94      0.95       268\n",
      "       Kyle       0.48      0.31      0.38      2129\n",
      "       Stan       0.45      0.42      0.44      2282\n",
      "\n",
      "avg / total       0.52      0.53      0.52      7631\n",
      "\n",
      "Cross Validation Score: 0.538054577677\n",
      "============================================================================================\n",
      "============================================================================================\n",
      "\n",
      "Naive Bayes method\n",
      "Count Vectorize\n",
      "             precision    recall  f1-score   support\n",
      "\n",
      "    Cartman       0.54      0.75      0.62      2952\n",
      "      Kenny       0.96      0.87      0.91       268\n",
      "       Kyle       0.47      0.27      0.35      2129\n",
      "       Stan       0.46      0.41      0.44      2282\n",
      "\n",
      "avg / total       0.51      0.52      0.50      7631\n",
      "\n",
      "Cross Validation Score: 0.504858560494\n",
      "-----------------------------------------------------------\n",
      "\n",
      "TfIdf Vectorize\n",
      "             precision    recall  f1-score   support\n",
      "\n",
      "    Cartman       0.51      0.80      0.63      2952\n",
      "      Kenny       0.98      0.63      0.77       268\n",
      "       Kyle       0.51      0.20      0.29      2129\n",
      "       Stan       0.46      0.40      0.42      2282\n",
      "\n",
      "avg / total       0.51      0.51      0.48      7631\n",
      "\n",
      "Cross Validation Score: 0.507610473916\n",
      "============================================================================================\n",
      "============================================================================================\n"
     ]
    }
   ],
   "source": [
    "#Протестируем разные классификаторы на count и tfidf\n",
    "#Отчет об успешности классификации + кросс валидация\n",
    "for i in classifiers:\n",
    "    print(\"\\n\" + i[1] + \" method\") \n",
    "    print(\"Count Vectorize\")\n",
    "    i[0].fit(count_vector_train, y_train)\n",
    "    predict = i[0].predict(count_vector_test)\n",
    "    print(classification_report(y_test, predict, target_names=['Cartman', 'Kenny', 'Kyle' , 'Stan']))\n",
    "    print(\"Cross Validation Score:\", np.mean(cross_val_score(i[0], count_vector_train, y_train, cv=4)))\n",
    "    \n",
    "    print(\"-----------------------------------------------------------\\n\")\n",
    "    print(\"TfIdf Vectorize\")\n",
    "    i[0].fit(tfidf_vector_train, y_train)\n",
    "    predict = i[0].predict(tfidf_vector_test)\n",
    "    print(classification_report(y_test, predict, target_names=['Cartman', 'Kenny', 'Kyle' , 'Stan']))\n",
    "    print(\"Cross Validation Score:\", np.mean(cross_val_score(i[0], tfidf_vector_train, y_train, cv=4)))\n",
    "    print(\"============================================================================================\")\n",
    "    print(\"============================================================================================\")\n",
    "    "
   ]
  },
  {
   "cell_type": "code",
   "execution_count": null,
   "metadata": {
    "collapsed": true
   },
   "outputs": [],
   "source": [
    "#Самый худший, очевидно, dummy. Если трех персонажей он худо-бедно определяет (ну хотя бы 30%), фраз Кенни он находит меньше 1%\n",
    "#Забавно то, что у остальных четырех фразы Кенни получается искать с точностью 95 и более %\n",
    "#Самый лучший классификатор получился на логистической регрессии с методом векторизации Count. \n",
    "#Точность и полнота у всех (кроме dummy) колеблется в районе нескольких процентов, но логистическая регрессия здесь тоже кажется оптимальным вариантом\n",
    "#Логистическая регрессия определяет реплики персонажей примерно на 21-22% точнее"
   ]
  },
  {
   "cell_type": "code",
   "execution_count": null,
   "metadata": {
    "collapsed": true
   },
   "outputs": [],
   "source": [
    "#Посмотрим на сбалансированную регрессию"
   ]
  },
  {
   "cell_type": "code",
   "execution_count": 116,
   "metadata": {
    "collapsed": false
   },
   "outputs": [
    {
     "name": "stdout",
     "output_type": "stream",
     "text": [
      "             precision    recall  f1-score   support\n",
      "\n",
      "    Cartman       0.61      0.66      0.64      2952\n",
      "      Kenny       0.96      0.96      0.96       268\n",
      "       Kyle       0.47      0.36      0.41      2129\n",
      "       Stan       0.45      0.50      0.47      2282\n",
      "\n",
      "avg / total       0.54      0.54      0.53      7631\n",
      "\n",
      "Cross Validation Score: 0.535752519249\n"
     ]
    }
   ],
   "source": [
    "classifier_lrb = LogisticRegression(class_weight = 'balanced')\n",
    "classifier_lrb.fit(count_vector_train, y_train)\n",
    "predict = classifier_lr.predict(count_vector_test)\n",
    "print(classification_report(y_test, predict, target_names=['Cartman', 'Kenny', 'Kyle' , 'Stan']))\n",
    "print(\"Cross Validation Score:\", np.mean(cross_val_score(classifier_lrb, count_vector_train, y_train, cv=4)))"
   ]
  },
  {
   "cell_type": "code",
   "execution_count": null,
   "metadata": {
    "collapsed": true
   },
   "outputs": [],
   "source": [
    "#Результат похуже\n",
    "\n",
    "#Ради любопытства взглянем на tfidf:"
   ]
  },
  {
   "cell_type": "code",
   "execution_count": 117,
   "metadata": {
    "collapsed": false
   },
   "outputs": [
    {
     "name": "stdout",
     "output_type": "stream",
     "text": [
      "             precision    recall  f1-score   support\n",
      "\n",
      "    Cartman       0.73      0.34      0.47      2952\n",
      "      Kenny       0.97      0.64      0.77       268\n",
      "       Kyle       0.42      0.33      0.37      2129\n",
      "       Stan       0.38      0.73      0.50      2282\n",
      "\n",
      "avg / total       0.55      0.47      0.46      7631\n",
      "\n",
      "Cross Validation Score: 0.537043089342\n"
     ]
    }
   ],
   "source": [
    "classifier_lrb = LogisticRegression(class_weight = 'balanced')\n",
    "classifier_lrb.fit(tfidf_vector_train, y_train)\n",
    "predict = classifier_lr.predict(tfidf_vector_test)\n",
    "print(classification_report(y_test, predict, target_names=['Cartman', 'Kenny', 'Kyle' , 'Stan']))\n",
    "print(\"Cross Validation Score:\", np.mean(cross_val_score(classifier_lrb, tfidf_vector_train, y_train, cv=4)))"
   ]
  },
  {
   "cell_type": "code",
   "execution_count": 114,
   "metadata": {
    "collapsed": true
   },
   "outputs": [],
   "source": [
    "#Все еще хуже самого первого выбранного варианта\n",
    "#Таким образом, logistic regression + count оказывается лучшим вариантом"
   ]
  },
  {
   "cell_type": "code",
   "execution_count": 115,
   "metadata": {
    "collapsed": false
   },
   "outputs": [
    {
     "data": {
      "image/png": "[encoded data removed]",
      "text/plain": [
       "<matplotlib.figure.Figure at 0xe809c18>"
      ]
     },
     "metadata": {},
     "output_type": "display_data"
    }
   ],
   "source": [
    "#Визуализация лучшего варианта\n",
    "matrix = confusion_matrix(y_test, predict)\n",
    "plt.figure()\n",
    "plot_confusion_matrix(matrix, classes=['Cartman', 'Kenny' , 'Kyle' , 'Stan'])"
   ]
  },
  {
   "cell_type": "code",
   "execution_count": null,
   "metadata": {
    "collapsed": true
   },
   "outputs": [],
   "source": []
  }
 ],
 "metadata": {
  "kernelspec": {
   "display_name": "Python 3",
   "language": "python",
   "name": "python3"
  },
  "language_info": {
   "codemirror_mode": {
    "name": "ipython",
    "version": 3
   },
   "file_extension": ".py",
   "mimetype": "text/x-python",
   "name": "python",
   "nbconvert_exporter": "python",
   "pygments_lexer": "ipython3",
   "version": "3.6.0"
  }
 },
 "nbformat": 4,
 "nbformat_minor": 2
}
